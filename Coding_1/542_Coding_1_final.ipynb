{
  "nbformat": 4,
  "nbformat_minor": 0,
  "metadata": {
    "colab": {
      "name": "542_Coding_1_final.ipynb",
      "provenance": [],
      "collapsed_sections": [],
      "authorship_tag": "ABX9TyMW1fasUWaOuiW1NVSsMik8",
      "include_colab_link": true
    },
    "kernelspec": {
      "name": "python3",
      "display_name": "Python 3"
    },
    "language_info": {
      "name": "python"
    }
  },
  "cells": [
    {
      "cell_type": "markdown",
      "metadata": {
        "id": "view-in-github",
        "colab_type": "text"
      },
      "source": [
        "<a href=\"https://colab.research.google.com/github/ycnnn/STAT542/blob/main/Coding_1/542_Coding_1_final.ipynb\" target=\"_parent\"><img src=\"https://colab.research.google.com/assets/colab-badge.svg\" alt=\"Open In Colab\"/></a>"
      ]
    },
    {
      "cell_type": "code",
      "source": [
        "#Final version\n",
        "\n",
        "import numpy as np\n",
        "import matplotlib.pyplot as plt\n",
        "from numpy import linalg as LA\n",
        "import pandas as pd\n",
        "from sklearn.neighbors import KNeighborsClassifier as knn\n",
        "\n",
        "\n",
        "# Set seed as the last 4 digits of my UIN\n",
        "np.random.seed(9367)\n",
        "\n",
        "p = 2\n",
        "csize = 10\n",
        "sigma = 1\n",
        "m0_mean = [0,1]\n",
        "m1_mean = [1,0]\n",
        "cov = [[1,0],[0,1]]\n",
        "n_sim = 50\n",
        "\n",
        "m1 = np.random.normal(size = (csize, p)) * sigma + np.concatenate([np.array([[1, 0]] * csize)])\n",
        "m0 = np.random.normal(size = (csize, p)) * sigma + np.concatenate([np.array([[0, 1]] * csize)]) # generate center m1\n",
        "\n",
        "class sim_params :\n",
        "    csize = 10           # number of centers\n",
        "    p = 2                # dimension\n",
        "    s = np.sqrt(1 / 5)   # standard deviation for generating data\n",
        "    n = 100              # training size per class\n",
        "    N = 5000             # test size per class\n",
        "    m0 = m0              # 10 centers for class 0\n",
        "    m1 = m1              # 10 centers for class 1\n",
        "\n",
        "def generate_sim_data(sim_params):\n",
        "\n",
        "    p = sim_params.p\n",
        "    s = sim_params.s\n",
        "    n = sim_params.n\n",
        "    N = sim_params.N\n",
        "    m1 = sim_params.m1\n",
        "    m0 = sim_params.m0\n",
        "    csize = sim_params.csize\n",
        "    \n",
        "    id1 = np.random.randint(csize, size = n)\n",
        "    id0 = np.random.randint(csize, size = n)\n",
        "\n",
        "    Xtrain = np.random.normal(size = (2 * n, p)) * s \\\n",
        "                + np.concatenate([m1[id1,:], m0[id0,:]])\n",
        "    Ytrain = np.concatenate(([1]*n, [0]*n))\n",
        "\n",
        "    id1 = np.random.randint(csize, size = N)\n",
        "    id0 = np.random.randint(csize, size = N)\n",
        "    Xtest = np.random.normal(size = (2 * N, p)) * s \\\n",
        "                + np.concatenate([m1[id1,:], m0[id0,:]])\n",
        "    Ytest = np.concatenate(([1]*N, [0]*N))\n",
        "\n",
        "    return Xtrain, Ytrain, Xtest, Ytest\n",
        "\n",
        "Xtrain, Ytrain, Xtest, Ytest = generate_sim_data(sim_params)\n",
        "\n",
        "#Generating 50 test samples\n",
        "XtrainSim = np.zeros((n_sim,2 * sim_params.n,sim_params.p))\n",
        "YtrainSim = np.zeros((n_sim,2 * sim_params.n))\n",
        "XtestSim = np.zeros((n_sim,2 * sim_params.N,sim_params.p))\n",
        "YtestSim = np.zeros((n_sim,2 * sim_params.N))\n",
        "\n",
        "for i in range(n_sim):\n",
        "  XtrainSim[i], YtrainSim[i], XtestSim[i], YtestSim[i] = generate_sim_data(sim_params)\n",
        "\n",
        "######################################################################\n",
        "# new code\n",
        "# k is knn n searching parameter\n",
        "def myknn(xtrain, ytrain, xtest, k):\n",
        "  y_pred = np.array([])\n",
        "  for element in xtest:\n",
        "    # matrix: first row = distance, second row = corresponding y training value\n",
        "    matrix = np.vstack((LA.norm(xtrain-element, axis=1).transpose(),\n",
        "                        ytrain[np.newaxis])).transpose()\n",
        "    # final: sorted matrix based on distance.\n",
        "    final = matrix[matrix[:, 0].argsort()]\n",
        "    # y_searched: y value list, from nearested to farest\n",
        "    y_searched = final[:,1]\n",
        "    #print(y_searched)\n",
        "    # y_pred: average of first n nearest results\n",
        "    y_topk = np.sum(y_searched[0:k])/k\n",
        "    y_pred = np.append(y_pred, y_topk)\n",
        "    #voting: if predicted y >= 0.5 then predict 1\n",
        "  return np.where(y_pred >= 0.5, 1,0) \n",
        "\n",
        "\n",
        "\n",
        "\n",
        "\n",
        "###############################################################################\n",
        "#Adding knn_predict\n",
        "\n",
        "################################################################################\n",
        "#cv-knn\n",
        "def cvknn(xtrain, ytrain, num_folds, k):\n",
        "  indices = np.arange(len(ytrain))\n",
        "  np.random.shuffle(indices)\n",
        "  index_sets = np.array_split(indices, num_folds)\n",
        "  error = 0\n",
        "\n",
        "  for ifold in range(num_folds):\n",
        "    train_indices =  np.delete(index_sets, obj=ifold, axis=0).ravel()\n",
        "    _traindata = xtrain[train_indices]\n",
        "    _Ytrain = ytrain[train_indices]\n",
        "    \n",
        "    test_indices = index_sets[ifold]\n",
        "    _testdata = xtrain[test_indices]\n",
        "    _Ytest = ytrain[test_indices]\n",
        "\n",
        "    error += (np.sum(myknn(_traindata, _Ytrain, _testdata, k) != _Ytest)/num_folds)/len(_Ytest)\n",
        "  \n",
        "  return error\n",
        "    \n",
        "  \n",
        "\n",
        "\n",
        "##################################################################################\n",
        "#Bayes rule\n",
        "def bayes(x):\n",
        "  y_pred_bayes = np.array([])\n",
        "  for element in x:\n",
        "    d1 = sum(np.exp(- ((m1[i, 0] - element[0]) ** 2 + (m1[i, 1] - element[1]) ** 2) / (2 * sim_params.s ** 2)) for i in range(len(m1)))\n",
        "    d0 = sum(np.exp(- ((m0[i, 0] - element[0]) ** 2 + (m0[i, 1] - element[1]) ** 2) / (2 * sim_params.s ** 2)) for i in range(len(m0)))\n",
        "    y_pred_bayes = np.append(y_pred_bayes, d1/d0)\n",
        "  return np.where(y_pred_bayes >= 1, 1,0)\n",
        " \n",
        "\n",
        "#################################################################################\n",
        "#find best k @10-folds cv-knn\n",
        "cv_result = np.vstack((np.arange(1,181), np.array([cvknn(Xtrain, Ytrain, 10, k) for k in range(1,181)]))).transpose()\n",
        "best_k = int(cv_result[cv_result[:, 1].argsort()][0,0])\n",
        "#k = 13\n",
        "\n",
        " "
      ],
      "metadata": {
        "id": "eai13kLmaanK"
      },
      "execution_count": 160,
      "outputs": []
    },
    {
      "cell_type": "code",
      "source": [
        "##################################################################################\n",
        "#Plot error rate vs k\n",
        "plt.plot(np.array([cvknn(Xtrain, Ytrain, 10, k) for k in range(1,181)]), linewidth = 2, color = \"r\")\n",
        "plt.title(\"Prediction error vs $k$\", fontweight=\"bold\", loc='center', pad=None)\n",
        "plt.xlabel(\"$k$\")\n",
        "plt.ylabel(\"Prediction error\")\n",
        "plt.savefig('AccuracyVsK.png', dpi=800)"
      ],
      "metadata": {
        "colab": {
          "base_uri": "https://localhost:8080/",
          "height": 298
        },
        "id": "ffvFicb_adYq",
        "outputId": "1d565c84-83f5-4fe4-cb94-116d025e824b"
      },
      "execution_count": 131,
      "outputs": [
        {
          "output_type": "display_data",
          "data": {
            "text/plain": [
              "<Figure size 432x288 with 1 Axes>"
            ],
            "image/png": "[encoded data removed]"
          },
          "metadata": {
            "needs_background": "light"
          }
        }
      ]
    },
    {
      "cell_type": "code",
      "source": [
        "###############################################################################\n",
        "#TestTest your code with mydata when K = 1, 3, 5; \n",
        "#compare your results with the ones from the R command knn.\n",
        "\n",
        "#k = 1\n",
        "#My KNN model\n",
        "k_1 = myknn(Xtrain, Ytrain, Xtest, 1) \n",
        "#KNN model from SKLearn\n",
        "model_k_1 = knn(n_neighbors= 1)\n",
        "model_k_1.fit(Xtrain,Ytrain)\n",
        "sk_k_1 = model_k_1.predict(Xtest) \n",
        "#Print results\n",
        "print(pd.crosstab(k_1, Ytest))\n",
        "print(pd.crosstab(sk_k_1, Ytest))\n"
      ],
      "metadata": {
        "id": "Vi_s01aMbk4z",
        "colab": {
          "base_uri": "https://localhost:8080/"
        },
        "outputId": "801bfb77-1443-4885-d50b-ab0751cb19af"
      },
      "execution_count": 165,
      "outputs": [
        {
          "output_type": "stream",
          "name": "stdout",
          "text": [
            "col_0     0     1\n",
            "row_0            \n",
            "0      4018  1027\n",
            "1       982  3973\n",
            "col_0     0     1\n",
            "row_0            \n",
            "0      4018  1027\n",
            "1       982  3973\n"
          ]
        }
      ]
    },
    {
      "cell_type": "code",
      "source": [
        "#k = 3\n",
        "#My KNN model\n",
        "k_3 = myknn(Xtrain, Ytrain, Xtest, 3) \n",
        "#KNN model from SKLearn\n",
        "model_k_3 = knn(n_neighbors= 3)\n",
        "model_k_3.fit(Xtrain,Ytrain)\n",
        "sk_k_3 = model_k_3.predict(Xtest) \n",
        "#Print results\n",
        "print(pd.crosstab(k_3, Ytest))\n",
        "print(pd.crosstab(sk_k_3, Ytest))\n"
      ],
      "metadata": {
        "colab": {
          "base_uri": "https://localhost:8080/"
        },
        "id": "pc6qw2bfcOG1",
        "outputId": "93841d72-70ae-4df6-f8d7-37383afe02c9"
      },
      "execution_count": 166,
      "outputs": [
        {
          "output_type": "stream",
          "name": "stdout",
          "text": [
            "col_0     0     1\n",
            "row_0            \n",
            "0      4064   873\n",
            "1       936  4127\n",
            "col_0     0     1\n",
            "row_0            \n",
            "0      4064   873\n",
            "1       936  4127\n"
          ]
        }
      ]
    },
    {
      "cell_type": "code",
      "source": [
        "#k = 5\n",
        "#My KNN model\n",
        "k_5 = myknn(Xtrain, Ytrain, Xtest, 5) \n",
        "#KNN model from SKLearn\n",
        "model_k_5 = knn(n_neighbors= 5)\n",
        "model_k_5.fit(Xtrain,Ytrain)\n",
        "sk_k_5 = model_k_5.predict(Xtest) \n",
        "#Print results\n",
        "print(pd.crosstab(k_5, Ytest))\n",
        "print(pd.crosstab(sk_k_5, Ytest))\n"
      ],
      "metadata": {
        "colab": {
          "base_uri": "https://localhost:8080/"
        },
        "id": "Zdakkm_peBYr",
        "outputId": "f7dfac12-de21-49ea-ecd4-4702e0e69f14"
      },
      "execution_count": 167,
      "outputs": [
        {
          "output_type": "stream",
          "name": "stdout",
          "text": [
            "col_0     0     1\n",
            "row_0            \n",
            "0      4057   803\n",
            "1       943  4197\n",
            "col_0     0     1\n",
            "row_0            \n",
            "0      4057   803\n",
            "1       943  4197\n"
          ]
        }
      ]
    },
    {
      "cell_type": "code",
      "source": [
        "###############################################################################\n",
        "#Simulation study, KNN @ k=1\n",
        "err_knn = []\n",
        "err_best_k = []\n",
        "err_bayes = []\n",
        "length = len(YtestSim[i])\n",
        "\n",
        "for i in range(n_sim):\n",
        "\n",
        "  err_knn.append(np.sum(myknn(Xtrain, Ytrain, XtestSim[i], 1) != YtestSim[i])/length)\n",
        "\n",
        "\n",
        "  err_best_k.append(np.sum(myknn(Xtrain, Ytrain, XtestSim[i], best_k) != YtestSim[i])/length)\n",
        "\n",
        "\n",
        "  err_bayes.append(np.sum(bayes(XtestSim[i]) != YtestSim[i])/length)"
      ],
      "metadata": {
        "id": "cHDa_KslDS5-"
      },
      "execution_count": 181,
      "outputs": []
    },
    {
      "cell_type": "code",
      "source": [
        "print(f\"For k = 1, the mean error is {np.mean(err_knn):.3f}, standard deviation is {np.std(err_knn):.6f}\")\n",
        "print(f\"For best k from cv-knn, the mean error is {np.mean(err_best_k):.3f}, standard deviation is {np.std(err_best_k):.6f}\")\n",
        "print(f\"For Bayes risk, the mean error is {np.mean(err_bayes):.3f}, standard deviation is {np.std(err_bayes):.6f}\")\n"
      ],
      "metadata": {
        "colab": {
          "base_uri": "https://localhost:8080/"
        },
        "id": "BOD4-fDyE69S",
        "outputId": "679daf42-cc60-406d-b6de-428df7da8550"
      },
      "execution_count": 190,
      "outputs": [
        {
          "output_type": "stream",
          "name": "stdout",
          "text": [
            "For k = 1, the mean error is 0.204, standard deviation is 0.003989\n",
            "For best k from cv-knn, the mean error is 0.154, standard deviation is 0.003657\n",
            "For Bayes risk, the mean error is 0.139, standard deviation is 0.003833\n"
          ]
        }
      ]
    },
    {
      "cell_type": "code",
      "source": [],
      "metadata": {
        "id": "6A_ZlhCZgCAt"
      },
      "execution_count": 187,
      "outputs": []
    },
    {
      "cell_type": "code",
      "source": [],
      "metadata": {
        "id": "NJi8ARsuh9D7"
      },
      "execution_count": null,
      "outputs": []
    }
  ]
}